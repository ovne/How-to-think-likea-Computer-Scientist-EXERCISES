{
  "nbformat": 4,
  "nbformat_minor": 0,
  "metadata": {
    "colab": {
      "provenance": [],
      "collapsed_sections": [
        "LA8Gsxb82fs6",
        "77BDfrqas5Zh"
      ],
      "authorship_tag": "ABX9TyNYHprjmWzESkDENv1RIR2s",
      "include_colab_link": true
    },
    "kernelspec": {
      "name": "python3",
      "display_name": "Python 3"
    },
    "language_info": {
      "name": "python"
    }
  },
  "cells": [
    {
      "cell_type": "markdown",
      "metadata": {
        "id": "view-in-github",
        "colab_type": "text"
      },
      "source": [
        "<a href=\"https://colab.research.google.com/github/ovne/How-to-think-likea-Computer-Scientist-EXERCISES/blob/main/ThinkAsCSWithPython_Exercises.ipynb\" target=\"_parent\"><img src=\"https://colab.research.google.com/assets/colab-badge.svg\" alt=\"Open In Colab\"/></a>"
      ]
    },
    {
      "cell_type": "markdown",
      "source": [
        "# Chapter 13 - Exceptions\n",
        "---\n"
      ],
      "metadata": {
        "id": "LA8Gsxb82fs6"
      }
    },
    {
      "cell_type": "markdown",
      "source": [
        "Write a function named readposint that uses the input dialog to prompt the user for a positive integer and then checks the input to confirm that it meets the requirements. It should be able to handle inputs that cannot be converted to int, as well as negative int, and edge cases (e.g. when the user closes the dialog, or does not enter anything at all.)"
      ],
      "metadata": {
        "id": "MNTxefmR3ePT"
      }
    },
    {
      "cell_type": "code",
      "source": [
        "# esta função lê a entrada e converte para tipo inteiro, do contrario sobe um erro.\n",
        "def readposint()->int:\n",
        "    return int(input(\"Digite um número positivo:\"))\n",
        "\n",
        "# essa função sobe um erro (AssertionError) no caso da entrada ser negativa, do contrario nao faz nada\n",
        "def isPos(n):\n",
        "    assert n > 0\n",
        "\n",
        "if __name__ == \"__main__\":\n",
        "    try:\n",
        "\n",
        "        n = readposint() # chamada a func que pode causar um erro\n",
        "        isPos(n) # outra func que pode causar outro erro\n",
        "\n",
        "    except ValueError:\n",
        "        # tratando o erro de readposint()\n",
        "        print(\"Erro: Usuario não digitou um número inteiro\")\n",
        "    except AssertionError:\n",
        "        # tratando o erro de isPos()\n",
        "        print(\"Erro: Usuário não digitou um inteiro positivo\")\n",
        "    except KeyboardInterrupt:\n",
        "        # tratando o erro quando o usuario encerra a execucao\n",
        "        print(\"Erro: Usuário encerrou antes de digitar um número\")\n",
        "    finally:\n",
        "        # sempre executa\n",
        "        print(\"FIM DO PROGRAMA\")    \n",
        "\n",
        "\n",
        "''' NOTAS\n",
        "    1) existem muitas sintaxes para estruturas de tratativa de excessão, neste\n",
        "exemplo optei pela mais comum e recomendada: tratar especificamente cada erro identificado.\n",
        "    2) Por simplicidade a trativa aqui é imprimir mensagens, claro que o bloco except\n",
        "aceita qualquer outra estruta de código python para lidar de fato com o erro.'''"
      ],
      "metadata": {
        "colab": {
          "base_uri": "https://localhost:8080/"
        },
        "id": "fuAtv6VK3cbG",
        "outputId": "0c9463c3-62f0-449c-cf44-2cf91edf1c36"
      },
      "execution_count": null,
      "outputs": [
        {
          "name": "stdout",
          "output_type": "stream",
          "text": [
            "Erro: Usuário encerrou antes de digitar um número\n",
            "FIM DO PROGRAMA\n",
            "Digite um número positivo:g\n"
          ]
        }
      ]
    },
    {
      "cell_type": "markdown",
      "source": [
        "# Chapter 14 - Web Applications\n",
        "---"
      ],
      "metadata": {
        "id": "77BDfrqas5Zh"
      }
    },
    {
      "cell_type": "code",
      "source": [],
      "metadata": {
        "id": "LSv83PsCtFim"
      },
      "execution_count": null,
      "outputs": []
    },
    {
      "cell_type": "markdown",
      "source": [
        "# Chapter 17 - Classes and Objects, the basics\n",
        "---"
      ],
      "metadata": {
        "id": "ykh5g5bSE6PQ"
      }
    },
    {
      "cell_type": "code",
      "source": [
        "# [PRACTICE 17.4]\n",
        "\n",
        "# 1 - name a new class\n",
        "class Point:\n",
        "    # 2 - constructor with static attributes\n",
        "    def __init__(self):\n",
        "        self.x = 0 #point's attribute\n",
        "        self.y = 0\n",
        "\n",
        "# that's it. This class is able to virtually represents the mathematical concept\n",
        "# of a 2 dimensional point.\n",
        "\n",
        "# The act of \"making\" some points from our Point class is the act to create an instance\n",
        "pointA = Point()\n",
        "PointB = Point()\n",
        "\n",
        "print(type(pointA))\n",
        "print(pointA is PointB)\n",
        "# 'pointA' is an object of type Point \n",
        "# they can have same attributes (position (0.0)) but still diferent objects "
      ],
      "metadata": {
        "colab": {
          "base_uri": "https://localhost:8080/"
        },
        "id": "e1O0-6phFRMR",
        "outputId": "d578c74d-a87e-43e9-879b-d4b91f48ce10"
      },
      "execution_count": null,
      "outputs": [
        {
          "output_type": "stream",
          "name": "stdout",
          "text": [
            "<class '__main__.Point'>\n",
            "False\n"
          ]
        }
      ]
    },
    {
      "cell_type": "code",
      "source": [
        "# [PRACTICE 17.5]\n",
        "# Now, it would be nice to be able to make points at any position and not only at (0,0)\n",
        "\n",
        "class Point():\n",
        "    # we solve this by simply adding parameters to the constructor\n",
        "    def __init__(self, posX=0, posY=0):\n",
        "        self.x = posX\n",
        "        self.y = posY\n",
        "\n",
        "# and now, the instances must inform the constructor the coordinates for the point\n",
        "pointA = Point(3,7)\n",
        "pointB = Point(10, -2)\n",
        "print(type(pointA))\n",
        "print(\"Point A is at x:{} y:{}\".format(pointA.x, pointA.y))\n",
        "print(\"Point B is at x:{} y:{}\".format(pointB.x, pointB.y))\n",
        "\n",
        "# standard values for the parameters ensures that the point will be set in the origin\n",
        "# when coordinates aren't informed\n",
        "\n",
        "pointC = Point()\n",
        "print(\"Point C is at x:{} y:{}\".format(pointC.x, pointC.y))"
      ],
      "metadata": {
        "colab": {
          "base_uri": "https://localhost:8080/"
        },
        "id": "K5uypqKMHR1E",
        "outputId": "f7e1739e-7104-4858-bca4-0dc6f960b860"
      },
      "execution_count": null,
      "outputs": [
        {
          "output_type": "stream",
          "name": "stdout",
          "text": [
            "<class '__main__.Point'>\n",
            "Point A is at x:3 y:7\n",
            "Point B is at x:10 y:-2\n",
            "Point C is at x:0 y:0\n"
          ]
        }
      ]
    },
    {
      "cell_type": "code",
      "source": [
        "# [PRACTICE 17.6]\n",
        "\n",
        "# Methods to operate the state of the object.\n",
        "# Every time we instantiate a point its state is defined by the coordinates passed to the constructor\n",
        "# A simple am commum operation to performe with a state of point is calculate the\n",
        "# the distance from the origin to the point position\n",
        "\n",
        "class Point:\n",
        "    # constructor - defines the object, its attributes, its data types\n",
        "    def __init__(self, posX=0, posY=0):\n",
        "        self.x = posX\n",
        "        self.y = posY\n",
        "\n",
        "    # mothod - access the attributes and operate some action for the object \n",
        "    # All methods (def's) inside a class ALWAYS carry the self attibute\n",
        "    def distanceFromOrigin(self):\n",
        "        return ((self.x)**2 + (self.y)**2)**0.5\n",
        "\n",
        "# creating 2 points\n",
        "pointA = Point(13, 9)\n",
        "pointB = Point(2,25)\n",
        "# accessing their states and calculating the distance from the origin\n",
        "distanceA = pointA.distanceFromOrigin()\n",
        "distanceB = pointB.distanceFromOrigin()\n",
        "\n",
        "print(\"Point A is {} units far from origin.\".format(distanceA))\n",
        "print(\"Point B is {} units far from origin.\".format(distanceB))\n",
        "\n",
        "# It is good to remember that the function distanceFromOrigin() is only accessible\n",
        "# and usuful for Point objects since this function is part of our class Point()."
      ],
      "metadata": {
        "colab": {
          "base_uri": "https://localhost:8080/"
        },
        "id": "AE40rbIVPveL",
        "outputId": "57f84da2-3ee4-454c-c792-90edf4c2075e"
      },
      "execution_count": null,
      "outputs": [
        {
          "output_type": "stream",
          "name": "stdout",
          "text": [
            "Point A is 15.811388300841896 units far from origin.\n",
            "Point B is 25.079872407968907 units far from origin.\n"
          ]
        }
      ]
    },
    {
      "cell_type": "code",
      "source": [
        "# [PRACTICE 17.7]\n",
        "class Point:\n",
        "    '''Define an object representing a 2D point'''\n",
        "\n",
        "    def __init__(self, posX=0, posY=0):\n",
        "        self.x = posX\n",
        "        self.y = posY\n",
        "\n",
        "    # now, i'm gonna add some special methods just to access the object's attributes\n",
        "    # However, at this point, this os optinal, we could do the same by dot-notation\n",
        "    def getX(self):\n",
        "        return self.x\n",
        "    \n",
        "    def getY(self):\n",
        "        return self.y\n",
        "    \n",
        "    def distanceFromOrigin(self):\n",
        "        return ((self.x)**2 + (self.y)**2)**0.5\n",
        "\n",
        "\n",
        "\n",
        "def distanceBetweenPoints(point1, point2):\n",
        "    deltaX = point2.getX() - point1.getX()\n",
        "    deltaY = point2.getY() - point1.getY()\n",
        "\n",
        "    distanceBtw = ((deltaX ** 2) + (deltaY**2))**0.5\n",
        "    return distanceBtw\n",
        "\n",
        "# make 2 points\n",
        "pointA = Point(5,7)\n",
        "pointB = Point(9,2)\n",
        "# send the points (objects) as parameters\n",
        "distance = distanceBetweenPoints(pointB, pointA)\n",
        "print(\"The distance between the 2 points is {} units\".format(distance))"
      ],
      "metadata": {
        "colab": {
          "base_uri": "https://localhost:8080/"
        },
        "id": "TmyZuO25V81D",
        "outputId": "68f62e52-786c-46f5-c3e5-b730b790e21e"
      },
      "execution_count": null,
      "outputs": [
        {
          "output_type": "stream",
          "name": "stdout",
          "text": [
            "The distance between the 2 points is 6.4031242374328485 units\n"
          ]
        }
      ]
    },
    {
      "cell_type": "code",
      "source": [
        "# [PRACTICE 17.8]\n",
        "\n",
        "# Converting an object into a String : for many reasons, sometimes we want to\n",
        "# print out a detailed string of our object, from its state, methods or both.\n",
        "# For this sake, we can add a special method \"__str__\" inside the class definition\n",
        "# and change the bahavior of print()\n",
        "\n",
        "class Point:\n",
        "    def __init__(self, posX=0, posY=0):\n",
        "        self.x = posX\n",
        "        self.y = posY\n",
        "    \n",
        "\n",
        "pointA = Point(4,6)\n",
        "print(pointA) # it's gonna print a geenric python reference to the object\n",
        "\n",
        "# now, let's remake the class and insert the special method\n",
        "\n",
        "class Point:\n",
        "    def __init__(self, posX=0, posY=0):\n",
        "        self.x = posX\n",
        "        self.y = posY\n",
        "    \n",
        "    def __str__(self):\n",
        "        return \"Point object set af x={} y={}\".format(self.x, self.y)\n",
        "\n",
        "pointB = Point(869, 7)\n",
        "print(pointB)\n",
        "    "
      ],
      "metadata": {
        "colab": {
          "base_uri": "https://localhost:8080/"
        },
        "id": "QeUaYrHxkDP5",
        "outputId": "a018f65d-bf47-4a69-eb4d-383aa5698035"
      },
      "execution_count": null,
      "outputs": [
        {
          "output_type": "stream",
          "name": "stdout",
          "text": [
            "<__main__.Point object at 0x7f015d376610>\n",
            "Point object set af x=869 y=7\n"
          ]
        }
      ]
    },
    {
      "cell_type": "code",
      "source": [
        "# [PRACTICE 17.9] \n",
        "\n",
        "# Instances as return values\n",
        "\n",
        "class Point:\n",
        "    def __init__(self, posX=0, posY=0):\n",
        "        self.x = posX\n",
        "        self.y = posY\n",
        "    \n",
        "    def __str__(self):\n",
        "        return \"Point object set af x={} y={}\".format(self.x, self.y)\n",
        "    \n",
        "    def halfway(self, apoint):\n",
        "        midx = (self.x + apoint.x)/2\n",
        "        midy = (self.y + apoint.y)/2\n",
        "        return Point(midx, midy)\n",
        "    \n",
        "        \n",
        "# create 2 points\n",
        "pointA = Point(4,9)\n",
        "pointB = Point(7, 13)\n",
        "# create a point at the midway between A and B\n",
        "midway = pointA.halfway(pointB) # a Point method that requires another Point obj and returns a Point obj \n",
        "print(midway)"
      ],
      "metadata": {
        "colab": {
          "base_uri": "https://localhost:8080/"
        },
        "id": "IMpsFFpbrnYU",
        "outputId": "10f89e9b-a062-450d-b372-ce8b0a974d80"
      },
      "execution_count": null,
      "outputs": [
        {
          "output_type": "stream",
          "name": "stdout",
          "text": [
            "Point object set af x=5.5 y=11.0\n"
          ]
        }
      ]
    },
    {
      "cell_type": "code",
      "source": [
        "# [EXERCISE 01]\n",
        "\n",
        "\"\"\"Add a distanceFromPoint method that works similar to distanceFromOrigin \n",
        "except that it takes a Point as a parameter and computes the distance between \n",
        "that point and self.\"\"\"\n",
        "\n",
        "# Pretty much similar to the practice exercise above\n",
        "\n",
        "class Point: # class definition\n",
        "    def __init__(self, posX=0, posY=0): # constructor\n",
        "        self.x = posX\n",
        "        self.y = posY\n",
        "\n",
        "    def distanceFromOrigin(self): # method 1\n",
        "        return ((self.x)**2 + (self.y)**2)**0.5\n",
        "\n",
        "    def distanceFromPoint(self, apoint): # method 2\n",
        "        deltaX = self.x - apoint.x\n",
        "        deltaY = self.y - apoint.y\n",
        "\n",
        "        return ((deltaX**2) + (deltaY**2))**0.5\n",
        "    \n",
        "\n",
        "# making some points and calculate the distance\n",
        "pointA = Point(2,9)\n",
        "pointB = Point(-1,7)\n",
        "pointC = Point(12, 3)\n",
        "\n",
        "print(\"The distance from A to B is {:.2f} units\".format(pointA.distanceFromPoint(pointB)))\n",
        "print(\"The distance from A to C is {:.2f} units\".format(pointA.distanceFromPoint(pointC)))\n"
      ],
      "metadata": {
        "colab": {
          "base_uri": "https://localhost:8080/"
        },
        "id": "ZGTBitL2KBQP",
        "outputId": "36bf5b29-3603-4e24-d433-76248f5b63ea"
      },
      "execution_count": null,
      "outputs": [
        {
          "output_type": "stream",
          "name": "stdout",
          "text": [
            "The distance from A to B is 3.61 units\n",
            "The distance from A to C is 11.66 units\n"
          ]
        }
      ]
    },
    {
      "cell_type": "code",
      "source": [
        "# [EXERCISE 2]\n",
        "\n",
        "\"\"\"Add a method reflect_x to Point which returns a new Point, one which is the \n",
        "reflection of the point about the x-axis. For example, Point(3, 5).reflect_x() is (3, -5)\"\"\"\n",
        "\n",
        "\n",
        "class Point:\n",
        "    def __init__(self, posX=0, posY=0):\n",
        "        self.x = posX\n",
        "        self.y = posY\n",
        "\n",
        "    def __str__(self):\n",
        "        return \"Point object set af x={} y={}\".format(self.x, self.y)\n",
        "\n",
        "    def reflectX(self):\n",
        "        return Point(self.x, -self.y)\n",
        "\n",
        "\n",
        "pointA = Point(3,5)\n",
        "pointB = pointA.reflectX()\n",
        "print(pointA)\n",
        "print(pointB)"
      ],
      "metadata": {
        "colab": {
          "base_uri": "https://localhost:8080/"
        },
        "id": "yEVeBqulkfT8",
        "outputId": "f9d96955-2f7d-4764-d012-3a37a9a8e3b8"
      },
      "execution_count": null,
      "outputs": [
        {
          "output_type": "stream",
          "name": "stdout",
          "text": [
            "Point object set af x=3 y=5\n",
            "Point object set af x=3 y=-5\n"
          ]
        }
      ]
    },
    {
      "cell_type": "code",
      "source": [
        "# [EXERCISE 3]\n",
        "\n",
        "\"\"\"Add a method slope_from_origin which returns the slope of the line joining the\n",
        "origin to the point. For example,\n",
        "    >>> Point(4, 10).slope_from_origin()\n",
        "    >>> 2.5\n",
        "What cases will cause your method to fail? Return None when it happens.\"\"\"\n",
        "\n",
        "# slope = dy/dx\n",
        "\n",
        "class Point:\n",
        "    def __init__(self, posX=0, posY=0):\n",
        "        self.x = posX\n",
        "        self.y = posY\n",
        "\n",
        "    def slope_from_origin(self):\n",
        "        try:\n",
        "            return self.y / self.x\n",
        "        except ZeroDivisionError:\n",
        "            return None\n",
        "\n",
        "pointA = Point(4, 10)\n",
        "print(pointA.slope_from_origin())\n",
        "pointB = Point(0,8)\n",
        "print(pointB.slope_from_origin())\n",
        "\n",
        "'''NOTAS\n",
        "O falha mais evidente do metodo é quando o ponto tem coodenada x=0 e causa uma \n",
        "divisao por zero no calculo na inclinacao.'''"
      ],
      "metadata": {
        "id": "EjMExXl7mhRA",
        "colab": {
          "base_uri": "https://localhost:8080/"
        },
        "outputId": "6527e52e-7abb-4795-a4f0-a09ac4a1dbd5"
      },
      "execution_count": null,
      "outputs": [
        {
          "output_type": "stream",
          "name": "stdout",
          "text": [
            "2.5\n",
            "None\n"
          ]
        }
      ]
    },
    {
      "cell_type": "code",
      "source": [
        "# [EXERCISE 4]\n",
        "\"\"\"The equation of a straight line is “y = ax + b”, (or perhaps “y = mx + c”). 7\n",
        "The coefficients a and b completely describe the line. Write a method in the \n",
        "Point class so that if a point instance is given another point, it will compute \n",
        "the equation of the straight line joining the two points. It must return the two \n",
        "coefficients as a tuple of two values. For example,\n",
        "\n",
        "    >>>print(Point(4, 11).get_line_to(Point(6, 15)))\n",
        "    >>>(2, 3)\n",
        "\n",
        "This tells us that the equation of the line joining the two points is “y = 2x + 3”. \n",
        "When will your method fail?\"\"\"\n",
        "\n",
        "class Point:\n",
        "    def __init__(self, posX=0,posY=0) -> None:\n",
        "        self.x = posX\n",
        "        self.y = posY\n",
        "\n",
        "    def getLineCoef(self, apoint) -> tuple:\n",
        "        # y = mx + c\n",
        "        try:\n",
        "            assert(self.x != apoint.x and self.y != apoint.y)\n",
        "            m = (apoint.y - self.y)/(apoint.x-self.x)\n",
        "            c = self.y - (m*self.x)\n",
        "            return tuple((m,c))\n",
        "        except AssertionError:\n",
        "            return None\n",
        "        except ZeroDivisionError:\n",
        "            return None\n",
        "\n",
        "pointA = Point(4,11)\n",
        "pointB = Point(6,15)\n",
        "print(pointA.getLineCoef(pointB))\n",
        "'''NOTAS\n",
        "O metodo falha quando nao ha variacao de x ou y, logo, para os dois pontos nenhuma \n",
        "das coordenadas podem ser iguais. E em particular para a cordena x, isto causaria\n",
        "um erro de divisao por zero, porem isso tbm eh tratado no assercao'''"
      ],
      "metadata": {
        "colab": {
          "base_uri": "https://localhost:8080/"
        },
        "id": "1iCgT0_-wmx2",
        "outputId": "f264f3d2-da27-4617-d098-6c1efa98227d"
      },
      "execution_count": null,
      "outputs": [
        {
          "output_type": "stream",
          "name": "stdout",
          "text": [
            "(2.75, 0.0)\n"
          ]
        }
      ]
    },
    {
      "cell_type": "code",
      "source": [
        "# [EXERCISE 5]\n",
        "\"\"\"Add a method called move that will take two parameters, call them dx and dy. \n",
        "The method will cause the point to move in the x and y direction the number of \n",
        "units given. (Hint: you will change the values of the state of the point)\"\"\"\n",
        "\n",
        "class Point:\n",
        "    def __init__(self, posX=0, posY=0) -> None:\n",
        "        self.x = posX\n",
        "        self.y = posY\n",
        "    \n",
        "    def __str__(self) -> str:\n",
        "        return f\"Point object set at x={self.x} y={self.y}\"\n",
        "    \n",
        "    def move(self, dx:int, dy:int) -> None:\n",
        "        self.x += dx\n",
        "        self.y += dy\n",
        "\n",
        "\n",
        "pointA = Point(4,9)\n",
        "print(pointA)\n",
        "pointA.move(2,5)\n",
        "print(pointA)"
      ],
      "metadata": {
        "colab": {
          "base_uri": "https://localhost:8080/"
        },
        "id": "fj0l196g5xVM",
        "outputId": "743ee9af-736e-4050-e435-5b60d18a3ea3"
      },
      "execution_count": null,
      "outputs": [
        {
          "output_type": "stream",
          "name": "stdout",
          "text": [
            "Point object set af x=4 y=9\n",
            "Point object set af x=6 y=14\n"
          ]
        }
      ]
    },
    {
      "cell_type": "code",
      "source": [
        "# [EXERCISE 06]\n",
        "\n",
        "\"\"\"Given three points that fall on the circumference of a circle, find the \n",
        "center and radius of the circle.\"\"\"\n",
        "\n",
        "class Point:\n",
        "    def __init__(self, posX=0, posY=0) -> None:\n",
        "        self.x = posX\n",
        "        self.y = posY\n",
        "\n",
        "    def __str__(self) -> str:\n",
        "        return f\"Point object set at x={self.x} y={self.y}\"\n",
        "\n",
        "\n",
        "    def midWay(self, apoint):\n",
        "        '''Given a Point returns the midway Point between them'''\n",
        "        midx = (self.x + apoint.x)/2\n",
        "        midy = (self.y + apoint.y)/2\n",
        "        return Point(midx, midy)\n",
        "\n",
        "    def getLineCoef(self, apoint) -> tuple:\n",
        "        '''Given a Point, calculates the coefficients of the straight line \n",
        "        equation for the line joining the points. You get 'a' and 'b' from y = ax + b'''\n",
        "        try:\n",
        "            assert(self.x != apoint.x and self.y != apoint.y)\n",
        "            m = (apoint.y - self.y)/(apoint.x-self.x)\n",
        "            c = self.y - (m*self.x)\n",
        "            return tuple((m,c))\n",
        "        except AssertionError:\n",
        "            return None\n",
        "        except ZeroDivisionError:\n",
        "            return None\n",
        "\n",
        "\n",
        "def circumcenter(A:Point, B:Point, C:Point):\n",
        "    # os 3 pontos medios dos segmentos\n",
        "    mAB = A.midWay(B)\n",
        "    mBC = B.midWay(C)\n",
        "    mAC = A.midWay(C)\n",
        "    # os 3 coef angular dos segmentos\n",
        "    slopeAB = A.getLineCoef(B)[0]\n",
        "    slopeBC = B.getLineCoef(C)[0]\n",
        "    slopeAC = A.getLineCoef(C)[0]\n",
        "    # Queremos o inverso oposto do coef angular dos segmentos que representa a inclinacao da linha perpendicular ao segmento\n",
        "    iAB = -(1/slopeAB)\n",
        "    iBC = -(1/slopeBC)\n",
        "    iAC = -(1/slopeAC)\n",
        "\n",
        "    # \n",
        "    print(slopeAB, iAB)\n",
        "    \n",
        "\n",
        "\n",
        "pointA = Point(-4,2)\n",
        "pointB = Point(2,4)\n",
        "pointC = Point(4,-4)\n",
        "\n",
        "circumcenter(pointA,pointB, pointC)"
      ],
      "metadata": {
        "colab": {
          "base_uri": "https://localhost:8080/"
        },
        "id": "Kcbad8ZWCZSI",
        "outputId": "5af8750d-6b79-4997-e170-5b8748401c4b"
      },
      "execution_count": null,
      "outputs": [
        {
          "output_type": "stream",
          "name": "stdout",
          "text": [
            "0.3333333333333333 -3.0\n"
          ]
        }
      ]
    },
    {
      "cell_type": "code",
      "source": [
        "def inverseNumber(n):\n",
        "    return -(1/n)\n",
        "\n",
        "\n",
        "print(inverseNumber(3))\n",
        "print(inverseNumber((1/3)))\n"
      ],
      "metadata": {
        "colab": {
          "base_uri": "https://localhost:8080/"
        },
        "id": "XniPcEXU_dfN",
        "outputId": "4dc607c0-6504-4770-d6a4-64cecb474a46"
      },
      "execution_count": null,
      "outputs": [
        {
          "output_type": "stream",
          "name": "stdout",
          "text": [
            "-0.3333333333333333\n",
            "-3.0\n"
          ]
        }
      ]
    },
    {
      "cell_type": "markdown",
      "source": [
        "# Chapter 18 - Classes and Objects, digging a little depper\n",
        "---"
      ],
      "metadata": {
        "id": "srtTSjc3x9z8"
      }
    },
    {
      "cell_type": "code",
      "source": [
        "# PRACTICE - Objects are mutable\n",
        "\n",
        "'''\n",
        "1) Lets create a class that represents a fraction\n",
        "2) then add a method that calculates the greatest commom divisor\n",
        "3) Finally, we use the greatest commo divisor tho change the state of the fraction object\n",
        "to its lowest terms form:'''\n",
        "\n",
        "\n",
        "class Fraction:\n",
        "\n",
        "    def __init__(self, top:int, bottom:int=1):\n",
        "        self.numerator = top\n",
        "        self.denominator = bottom\n",
        "\n",
        "    \n",
        "    def __str__(self)->str:\n",
        "        return f'{self.numerator}/{self.denominator}'\n",
        "\n",
        "    \n",
        "    def gcd(self)->int:\n",
        "        m = self.numerator\n",
        "        n = self.denominator\n",
        "        while m % n !=0:\n",
        "            oldm = m\n",
        "            oldn = n\n",
        "\n",
        "            m = oldn\n",
        "            n = oldm % oldn\n",
        "        return n\n",
        "\n",
        "\n",
        "    def simplify(self):\n",
        "        greatest_commom_divisor = self.gcd()\n",
        "        self.numerator = int(self.numerator / greatest_commom_divisor)\n",
        "        self.denominator = int(self.denominator / greatest_commom_divisor)\n",
        "    \n",
        "\n",
        "myFrac = Fraction(12, 16)\n",
        "print(myFrac)\n",
        "print(myFrac.gcd())\n",
        "myFrac.simplify()\n",
        "print(myFrac)"
      ],
      "metadata": {
        "colab": {
          "base_uri": "https://localhost:8080/"
        },
        "id": "7M2c1q9IyWyI",
        "outputId": "23a9f743-a329-402f-d2ff-7c783c4c7f00"
      },
      "execution_count": null,
      "outputs": [
        {
          "output_type": "stream",
          "name": "stdout",
          "text": [
            "12/16\n",
            "4\n",
            "3/4\n"
          ]
        }
      ]
    },
    {
      "cell_type": "code",
      "source": [
        "# PRACTICE Sameness\n",
        "\n",
        "'''\n",
        "The concept of shallow equality e deep equality\n",
        "shallow equality: compares only the references, not the contents of the objects.\n",
        "deep equality: compares the values “deep” in the object, not just the reference.\n",
        "\n",
        "Podemos criar dois objetos com atributos identicos e usar o operador 'is' para \n",
        "verificar se são iguais, vai incorrer numa shallow equality\n",
        "'''\n",
        "\n",
        "class Fraction:\n",
        "    def __init__(self, top:int, bottom:int=1):\n",
        "        self.numerator = top\n",
        "        self.denominator = bottom\n",
        "    \n",
        "    def __str__(self)->str:\n",
        "        return f'{self.numerator}/{self.denominator}'\n",
        "    \n",
        "    def getNum(self):\n",
        "        return self.numerator\n",
        "    \n",
        "    def getDen(self):\n",
        "        return self.denominator\n",
        "\n",
        "    \n",
        "aFraction = Fraction(3,4)\n",
        "bFraction = Fraction(3,4)\n",
        "print(aFraction is bFraction)\n",
        "# this is shallow equality, only the reference to the objects was checked\n",
        "\n",
        "# For Fraction() objects we can easly deal with it using a helper method that implements\n",
        "# some basic algebra: a/b = c/d => a*d = b*c\n",
        "\n",
        "def sameRational(frac1:Fraction, frac2:Fraction)->bool:\n",
        "    return frac1.getNum()*frac2.getDen() == frac1.getDen()*frac2.getNum()\n",
        "\n",
        "print(sameRational(aFraction, bFraction))\n",
        "# this is deep equality, since the inner values of the objects was evaluated "
      ],
      "metadata": {
        "colab": {
          "base_uri": "https://localhost:8080/"
        },
        "id": "_EyfSpZb12az",
        "outputId": "8812167c-9965-46c8-c230-98b1333ef813"
      },
      "execution_count": null,
      "outputs": [
        {
          "output_type": "stream",
          "name": "stdout",
          "text": [
            "False\n",
            "True\n"
          ]
        }
      ]
    },
    {
      "cell_type": "code",
      "source": [
        "# PRATICE 18.4 Arithmetic methods\n",
        "\n",
        "'''\n",
        "Let's implement some custom atithmetic methods for our fraction objects\n",
        "'''\n",
        "\n",
        "class Fraction:\n",
        "    \n",
        "    def __init__(self, top:int, bottom:int=1):\n",
        "        self.numerator = top\n",
        "        self.denominator = bottom\n",
        "\n",
        "    def __str__(self)->str:\n",
        "        return f'{self.numerator}/{self.denominator}'\n",
        "\n",
        "    def getNum(self):\n",
        "        return self.numerator\n",
        "    \n",
        "    def getDen(self):\n",
        "        return self.denominator\n",
        "\n",
        "    def gcd(self)->int:\n",
        "        m = self.numerator\n",
        "        n = self.denominator\n",
        "        while m % n !=0:\n",
        "            oldm = m\n",
        "            oldn = n\n",
        "\n",
        "            m = oldn\n",
        "            n = oldm % oldn\n",
        "        return n\n",
        "\n",
        "    def simplify(self):\n",
        "        greatest_commom_divisor = self.gcd()\n",
        "        self.numerator = int(self.numerator / greatest_commom_divisor)\n",
        "        self.denominator = int(self.denominator / greatest_commom_divisor)\n",
        "        return self\n",
        "\n",
        "    def add(self, afraction):\n",
        "        # a/b + c/d = (ad + cb)/bd\n",
        "\n",
        "        newnum = (self.numerator * afraction.denominator) + (self.denominator * afraction.numerator)\n",
        "        newden = self.denominator * afraction.denominator\n",
        "\n",
        "        # As result we ruturn a new fraction simplified to lowest terms\n",
        "        return Fraction(newnum, newden).simplify()\n",
        "    \n",
        "\n",
        "f1 = Fraction(2,8)\n",
        "f2 = Fraction(1,4)\n",
        "# print(f1)\n",
        "# print(f2)\n",
        "\n",
        "# print(f1.add(f2))\n",
        "\n",
        "print(f'{f1} + {f2} is equal to {f1.add}')"
      ],
      "metadata": {
        "colab": {
          "base_uri": "https://localhost:8080/"
        },
        "id": "vatDWIoRNya-",
        "outputId": "dbec0f98-7cfc-4c74-9d35-54f636b46f52"
      },
      "execution_count": null,
      "outputs": [
        {
          "output_type": "stream",
          "name": "stdout",
          "text": [
            "1/2\n"
          ]
        }
      ]
    },
    {
      "cell_type": "code",
      "source": [
        "# PRATICE 18.4 Arithmetic methods\n",
        "\n",
        "'''\n",
        "Uma funcionalidade interessante é adicionar a nossa classe mais um metodo especial\n",
        "que dessa vez vai alterar o comportamento do operador aritimetico '+' para realizar\n",
        "o processo de soma de frações\n",
        "'''\n",
        "\n",
        "class Fraction:\n",
        "    def __init__(self, top:int, bottom:int=1):\n",
        "        self.numerator = top\n",
        "        self.denominator = bottom\n",
        "\n",
        "    def __str__(self)->str:\n",
        "        return f'{self.numerator}/{self.denominator}'\n",
        "\n",
        "    def gcd(self)->int:\n",
        "        m = self.numerator\n",
        "        n = self.denominator\n",
        "        while m % n !=0:\n",
        "            oldm = m\n",
        "            oldn = n\n",
        "\n",
        "            m = oldn\n",
        "            n = oldm % oldn\n",
        "        return n\n",
        "\n",
        "    def simplify(self):\n",
        "        greatest_commom_divisor = self.gcd()\n",
        "        self.numerator = int(self.numerator / greatest_commom_divisor)\n",
        "        self.denominator = int(self.denominator / greatest_commom_divisor)\n",
        "        return self\n",
        "    \n",
        "    def __add__(self, afraction):\n",
        "        # a/b + c/d = (ad + cb)/bd\n",
        "\n",
        "        newnum = (self.numerator * afraction.denominator) + (self.denominator * afraction.numerator)\n",
        "        newden = self.denominator * afraction.denominator\n",
        "\n",
        "        # As result we ruturn a new fraction simplified to lowest terms\n",
        "        return Fraction(newnum, newden).simplify()\n",
        "\n",
        "\n",
        "f1 = Fraction(2,8)\n",
        "f2 = Fraction(1,4)\n",
        "\n",
        "f3 = f1 + f2\n",
        "print(f3)\n",
        "print(type(f3))"
      ],
      "metadata": {
        "colab": {
          "base_uri": "https://localhost:8080/"
        },
        "id": "Rn6ZgV3xCxKX",
        "outputId": "7c703962-0cf6-457a-bacd-c8b5fb2f64f6"
      },
      "execution_count": null,
      "outputs": [
        {
          "output_type": "stream",
          "name": "stdout",
          "text": [
            "1/2\n",
            "<class '__main__.Fraction'>\n"
          ]
        }
      ]
    },
    {
      "cell_type": "code",
      "source": [
        "# PRATICE 18.4 Arithmetic methods\n",
        "\n",
        "'''\n",
        "Agora que sabemos que funciona bem, vamos praticar implemetar as outras 3 operações\n",
        "aritmeticas básica para nossos objetos de Fração, isto é, '-', '/' e '*'\n",
        "\n",
        "uma explicação e melhor e uma lista das __magicmethods__ aqui:\n",
        "https://www.tutorialsteacher.com/python/magic-methods-in-python#:~:text=Magic%20methods%20in%20Python%20are,class%20on%20a%20certain%20action.\n",
        "'''\n",
        "\n",
        "class Fraction:\n",
        "    def __init__(self, top:int, bottom:int=1):\n",
        "        self.numerator = top\n",
        "        self.denominator = bottom\n",
        "\n",
        "    def __str__(self)->str:\n",
        "        return f'{self.numerator}/{self.denominator}'\n",
        "\n",
        "    def gcd(self)->int:\n",
        "        '''Greatest commom divisor'''\n",
        "\n",
        "        m = self.numerator\n",
        "        n = self.denominator\n",
        "        while m % n !=0:\n",
        "            oldm = m\n",
        "            oldn = n\n",
        "\n",
        "            m = oldn\n",
        "            n = oldm % oldn\n",
        "        return n\n",
        "\n",
        "    def simplify(self):\n",
        "        '''returns a Fraction in its lowest terms'''\n",
        "        greatest_commom_divisor = self.gcd()\n",
        "        self.numerator = int(self.numerator / greatest_commom_divisor)\n",
        "        self.denominator = int(self.denominator / greatest_commom_divisor)\n",
        "        return self\n",
        "    \n",
        "    def __add__(self, afraction):\n",
        "        '''Fraction addtion: a/b + c/d = (ad + cb)/bd'''\n",
        "\n",
        "        newnum = (self.numerator * afraction.denominator) + (self.denominator * afraction.numerator)\n",
        "        newden = self.denominator * afraction.denominator\n",
        "\n",
        "        # As result we ruturn a new fraction simplified to lowest terms\n",
        "        return Fraction(newnum, newden).simplify()\n",
        "\n",
        "    def __sub__(self, afraction):\n",
        "        '''Fraction  subtration: a/b - c/d = (ad - cb)/bd'''\n",
        "        newnum = (self.numerator * afraction.denominator) - (self.denominator * afraction.numerator)\n",
        "        newden = self.denominator * afraction.denominator\n",
        "        return Fraction(newnum, newden).simplify()\n",
        "\n",
        "    def __mul__(self, afraction):\n",
        "        '''Fraction multiplication: a/b * c/d = a*c/b*d '''\n",
        "        newnum = self.numerator * afraction.numerator\n",
        "        newden = self.denominator * afraction.denominator\n",
        "        return Fraction(newnum, newden).simplify()\n",
        "\n",
        "    def __truediv__(self, afraction):\n",
        "        '''Fraction division: a/b / c/d = a*d/b*c'''\n",
        "        newnum = self.numerator * afraction.denominator\n",
        "        newden = self.denominator * afraction.numerator\n",
        "        return Fraction(newnum, newden).simplify()\n",
        "\n",
        "\n",
        "# Agora é possivel realizar todas as operações basicar com nossos objetos de fração\n",
        "# utilizando os simbulos de costume (operadores)\n",
        "\n",
        "f1 = Fraction(1,8)\n",
        "f2 = Fraction(2,6)\n",
        "\n",
        "print(f1 + f2)\n",
        "print(f1 - f2)\n",
        "print(f1 * f2)\n",
        "print(f1 / f2)\n",
        "\n",
        "\n",
        "'''\n",
        "Notas:\n",
        "1) é interessante notar que os operadores artmetimos que estão dentro da classe\n",
        "tem o compartamento padrao esperado em Python, logo, a alteração nas __magicmethods__\n",
        "só é aplicavel para os objetos que definem esse funcionamento alterado.\n",
        "\n",
        "2) exemplo disso é que o eperador '/' aindo retorna float se invocado por outros\n",
        "objetos que nao sejam Fraction()\n",
        "\n",
        "3) esse tipo de funcionalidade deve ser especialmente útil para desenvolver modulos\n",
        "que interpretam e solucionam expressoes/equações algebricas. \n",
        "'''"
      ],
      "metadata": {
        "colab": {
          "base_uri": "https://localhost:8080/"
        },
        "id": "wdDixuj5IjwF",
        "outputId": "f59fca37-ed22-48dd-bbba-054c702d3ce3"
      },
      "execution_count": null,
      "outputs": [
        {
          "output_type": "stream",
          "name": "stdout",
          "text": [
            "11/24\n",
            "-5/24\n",
            "1/24\n",
            "3/8\n"
          ]
        }
      ]
    },
    {
      "cell_type": "code",
      "source": [
        "# [EXERCISES - 18.6]\n",
        "'''\n",
        "7.\n",
        "We can represent a rectangle by knowing three things: the location of its lower left\n",
        "corner, its width, and its height. Create a class definition for a Rectangle class \n",
        "using this idea. To create a Rectangle object at location (4,5) with width 6 and \n",
        "height 5, we would do the following:\n",
        "\n",
        "    r = Rectangle(Point(4, 5), 6, 5)\n",
        "'''\n",
        "\n",
        "class Point:\n",
        "    def __init__(self, posX=0, posY=0):\n",
        "        self.x = posX\n",
        "        self.y = posY\n",
        "\n",
        "    def __str__(self):\n",
        "        return f\"x={self.x}, y={self.y}\"\n",
        "\n",
        "\n",
        "class Rectangle:\n",
        "    def __init__(self, apoint:Point, w, h)->None:\n",
        "        self.start = apoint\n",
        "        self.width = w\n",
        "        self.height = h\n",
        "\n",
        "    def __str__(self)->str:\n",
        "        return f\"Rectangle object. begins at {self.start} extends {self.width} units to the right and {self.height} units upward\"\n",
        "\n",
        "\n",
        "\n",
        "pointA = Point()\n",
        "recA = Rectangle(pointA, 50, 50) # a square starting at the origin\n",
        "print(recA)"
      ],
      "metadata": {
        "id": "WvZwsmQZXlZZ",
        "colab": {
          "base_uri": "https://localhost:8080/"
        },
        "outputId": "0d35748f-0249-4f39-8bf2-c78658e1c7f8"
      },
      "execution_count": null,
      "outputs": [
        {
          "output_type": "stream",
          "name": "stdout",
          "text": [
            "Rectangle object. begins at x=0, y=0 extends 50 units to the right and 50 units upward\n"
          ]
        }
      ]
    },
    {
      "cell_type": "code",
      "source": [
        "# EXTRA\n",
        "'''\n",
        "Now, it would be really nice to have some graphical representation for\n",
        "my objects, since we're no longer dealing with just points, but with lines, rectangles\n",
        "and other 2 dimensional geometric objects.\n",
        "\n",
        "The idea is simple: use a python graphic toolkit to implement my own class that gets\n",
        "one of the geometric objects i've designed so far and finally draw it.\n",
        "\n",
        "to keep things as simple as possible, I chose a python lib that reimplements\n",
        "Turtle.py forcing it to work on google notebooks -- pretty cool thing!\n",
        "https://larryriddle.agnesscott.org/ColabTurtlePlus/documentation2.html\n",
        "'''\n",
        "\n",
        "# !pip3 install ColabTurtlePlus\n",
        "\n",
        "from ColabTurtlePlus.Turtle import *\n",
        "\n",
        "class Draw:\n",
        "\n",
        "    def __init__(self) -> None:\n",
        "        clearscreen()\n",
        "        setup(400,400)\n",
        "\n",
        "    def point(self, pt:Point)->None:\n",
        "        # clearscreen()\n",
        "        # setup(400, 400)\n",
        "\n",
        "        may = Turtle()\n",
        "        may.shapesize(0.5)\n",
        "        may.shape('circle')\n",
        "        may.color('red')\n",
        "        may.stamp() # marking the origin for reference \n",
        "        may.jumpto(pt.x, pt.y)\n",
        "        may.shape('ring')\n",
        "        may.color('cyan')\n",
        "        may.stamp()\n",
        "\n",
        "\n",
        "    def line(self, pt1:Point, pt2:Point):\n",
        "        # since you have 2 points you can draw the ininity other points between them -> line\n",
        "        may =  Turtle()\n",
        "        may.shape('blank')\n",
        "        may.pen_color = 'cyan'\n",
        "        may.pen_width = 2\n",
        "        may.jumpto(pt1.x, pt1.y)\n",
        "        may.goto(pt2.x, pt2.y)\n",
        "        \n",
        "\n",
        "\n",
        "    def rectangle(self, rct:Rectangle):\n",
        "        # clearscreen()\n",
        "        # setup(400, 400)\n",
        "\n",
        "        may = Turtle()\n",
        "        # may.speed(13)\n",
        "        may.shapesize(0.5)\n",
        "        may.shape('circle')\n",
        "        may.color('red')\n",
        "        may.stamp() # marking the origin for reference\n",
        "        # drawing the object\n",
        "        may.jumpto(rct.start.x, rct.start.y) # due to all attributes from all our objects are public\n",
        "        may.begin_fill()\n",
        "        may.color('black')\n",
        "        may.pen_color = 'green'\n",
        "        may.pen_width = 2\n",
        "        may.forward(rct.width)\n",
        "        may.left(90)\n",
        "        may.forward(rct.height)\n",
        "        may.left(90)\n",
        "        may.forward(rct.width)\n",
        "        may.left(90)\n",
        "        may.forward(rct.height)\n",
        "\n",
        "        may.end_fill()\n",
        "        \n",
        "\n",
        "''' NOTES\n",
        "i was born in May, my love - she is May, of course my Turtle would be \n",
        "called may too :D \n",
        "\n",
        "- May, there will be always a manner to instantiate you in my life. \n",
        "May I love til the end of time?\n",
        "'''"
      ],
      "metadata": {
        "colab": {
          "base_uri": "https://localhost:8080/",
          "height": 87
        },
        "id": "PCfWNvb8LRV_",
        "outputId": "91b97b39-79b7-49d5-ebee-44448991a603"
      },
      "execution_count": 4,
      "outputs": [
        {
          "output_type": "stream",
          "name": "stdout",
          "text": [
            "Looking in indexes: https://pypi.org/simple, https://us-python.pkg.dev/colab-wheels/public/simple/\n",
            "Requirement already satisfied: ColabTurtlePlus in /usr/local/lib/python3.8/dist-packages (2.0.1)\n"
          ]
        },
        {
          "output_type": "execute_result",
          "data": {
            "text/plain": [
              "' NOTES\\ni was born in May, my love - she is May, of course my Turtle would be \\ncalled may too :D \\n\\n- May, there will be always a manner to instantiate you in my life. \\nMay I love til the end of time?\\n'"
            ],
            "application/vnd.google.colaboratory.intrinsic+json": {
              "type": "string"
            }
          },
          "metadata": {},
          "execution_count": 4
        }
      ]
    },
    {
      "cell_type": "code",
      "source": [
        "# SAMPLE FROM DOC\n",
        "\n",
        "# from ColabTurtlePlus.Turtle import *\n",
        "# clearscreen()\n",
        "\n",
        "# setup(500,300)\n",
        "\n",
        "# T = Turtle()\n",
        "# T.color('red', 'yellow')\n",
        "# T.speed(13)\n",
        "# T.width(1.5)\n",
        "# S = T.clone()\n",
        "# T.fillrule(\"evenodd\")\n",
        "# S.fillrule(\"nonzero\")\n",
        "# x0 = -225\n",
        "# T.jumpto(x0,0)\n",
        "# S.jumpto(25,0)\n",
        "# T.begin_fill()\n",
        "# S.begin_fill()\n",
        "# while True:\n",
        "#     T.forward(200)\n",
        "#     T.left(170)\n",
        "#     S.forward(200)\n",
        "#     S.left(170)\n",
        "#     if (T.getx()-x0)**2 + T.gety()**2 < 1:\n",
        "#         break\n",
        "# T.end_fill()"
      ],
      "metadata": {
        "id": "9b_cBWGIqhOc"
      },
      "execution_count": null,
      "outputs": []
    },
    {
      "cell_type": "code",
      "source": [
        "# [EXERCISES - 18.6]\n",
        "\n",
        "'''\n",
        "9.\n",
        "Add a method area to the Rectangle class that returns the area of any instance:'''\n",
        "\n",
        "\n",
        "class Point:\n",
        "    def __init__(self, posX=0, posY=0):\n",
        "        self.x = posX\n",
        "        self.y = posY\n",
        "\n",
        "    def __str__(self):\n",
        "        return f\"x={self.x}, y={self.y}\"\n",
        "\n",
        "\n",
        "''' Now, that we are going to calculate areas it is a good idea to have error\n",
        "treatment to avoid rectangles with null areas.'''\n",
        "class Rectangle:\n",
        "\n",
        "    def __init__(self, apoint:Point, w, h):\n",
        "\n",
        "        if (w == 0 or h == 0):\n",
        "            raise ValueError(\"You can't have a rectangle with any side of length 0.\")\n",
        "        self.start = apoint\n",
        "        self.width = w\n",
        "        self.height = h\n",
        "\n",
        "    def __str__(self)->str:\n",
        "        return f\"Rectangle object. begins at {self.start} extends {self.width} units to the right and {self.height} units upward\"\n",
        "\n",
        "    def area(self):\n",
        "        return self.width * self.height\n",
        "\n",
        "    \n",
        "pointA = Point(2,2)\n",
        "recA = Rectangle(pointA, 3, 5)\n",
        "\n",
        "print(recA)\n",
        "print(f'rectangle area: {recA.area()}')"
      ],
      "metadata": {
        "id": "95IJ50B7Wpfq",
        "colab": {
          "base_uri": "https://localhost:8080/"
        },
        "outputId": "75c7d73a-27f6-4414-f6f1-f4bda1aabc73"
      },
      "execution_count": null,
      "outputs": [
        {
          "output_type": "stream",
          "name": "stdout",
          "text": [
            "Rectangle object. begins at x=2, y=2 extends 3 units to the right and 5 units upward\n",
            "rectangle area: 15\n"
          ]
        }
      ]
    },
    {
      "cell_type": "code",
      "source": [
        "# [EXERCISES - 18.6]\n",
        "\n",
        "'''.10\n",
        "Write a perimeter method in the Rectangle class so that we can find the \n",
        "perimeter of any rectangle instance:'''\n",
        "\n",
        "\n",
        "class Point:\n",
        "    def __init__(self, posX=0, posY=0):\n",
        "        self.x = posX\n",
        "        self.y = posY\n",
        "\n",
        "    def __str__(self):\n",
        "        return f\"x={self.x}, y={self.y}\"\n",
        "\n",
        "\n",
        "class Rectangle:\n",
        "\n",
        "    def __init__(self, apoint:Point, w, h)->None:\n",
        "\n",
        "        if (w == 0 or h == 0):\n",
        "            raise ValueError(\"You can't have a rectangle with any side of length 0.\")\n",
        "        self.start = apoint\n",
        "        self.width = w\n",
        "        self.height = h\n",
        "\n",
        "    def __str__(self)->str:\n",
        "        return f\"Rectangle object. begins at {self.start} extends {self.width} units to the right and {self.height} units upward\"\n",
        "\n",
        "    def area(self):\n",
        "        return self.width * self.height\n",
        "\n",
        "    def perimeter(self):\n",
        "        return self.width*2 + self.height*2\n",
        "\n",
        "\n",
        "    \n",
        "pointA = Point(1,1)\n",
        "recA = Rectangle(pointA, 7, 5)\n",
        "\n",
        "print(recA)\n",
        "print(f'rectangle area: {recA.area()}')\n",
        "print(f'rectangle perimeter: {recA.perimeter()}')\n",
        "\n",
        "\n",
        "'''NOTA: nesse ponto vejo que uma melhoria possível seria dividir o codigo das \n",
        "classes, por exemplo, uma classe que define os objetos geometricas e outra que \n",
        "implementa as principais operações/analises que é possível fazer com eles.'''"
      ],
      "metadata": {
        "colab": {
          "base_uri": "https://localhost:8080/",
          "height": 105
        },
        "id": "BmtKAgvrXmIf",
        "outputId": "a238a412-de96-4689-9e85-dd4bfe920cef"
      },
      "execution_count": null,
      "outputs": [
        {
          "output_type": "stream",
          "name": "stdout",
          "text": [
            "Rectangle object. begins at x=1, y=1 extends 7 units to the right and 5 units upward\n",
            "rectangle area: 35\n",
            "rectangle perimeter: 24\n"
          ]
        },
        {
          "output_type": "execute_result",
          "data": {
            "text/plain": [
              "'NOTA: nesse ponto vejo que uma melhoria possível seria dividir o codigo das \\nclasses, por exemplo, uma classe que define os objetos geometricas e outra que \\nimplementa as principais operações/analises que é possível fazer com eles.'"
            ],
            "application/vnd.google.colaboratory.intrinsic+json": {
              "type": "string"
            }
          },
          "metadata": {},
          "execution_count": 17
        }
      ]
    },
    {
      "cell_type": "code",
      "source": [
        "# [EXERCISES - 18.6]\n",
        "'''\n",
        ".11\n",
        "Write a transpose method in the Rectangle class that swaps the width and the height\n",
        "of any rectangle instance'''\n",
        "\n",
        "\n",
        "class Point:\n",
        "    def __init__(self, posX=0, posY=0):\n",
        "        self.x = posX\n",
        "        self.y = posY\n",
        "\n",
        "    def __str__(self):\n",
        "        return f\"x={self.x}, y={self.y}\"\n",
        "\n",
        "\n",
        "class Rectangle:\n",
        "\n",
        "    def __init__(self, apoint:Point, w, h)->None:\n",
        "\n",
        "        if (w == 0 or h == 0):\n",
        "            raise ValueError(\"You can't have a rectangle with any side of length 0.\")\n",
        "        self.start = apoint\n",
        "        self.width = w\n",
        "        self.height = h\n",
        "\n",
        "    def __str__(self)->str:\n",
        "        return f\"Rectangle object. begins at {self.start} Width: {self.width} Height: {self.height}\"\n",
        "\n",
        "    def area(self):\n",
        "        return self.width * self.height\n",
        "\n",
        "    def perimeter(self):\n",
        "        return self.width*2 + self.height*2\n",
        "\n",
        "    def transpose(self):\n",
        "        self.width, self.height =  self.height, self.width\n",
        "\n",
        "\n",
        "\n",
        "pointA = Point(1,1)\n",
        "recA = Rectangle(pointA, 7, 5)\n",
        "print(recA)\n",
        "recA.transpose()\n",
        "print(recA)"
      ],
      "metadata": {
        "colab": {
          "base_uri": "https://localhost:8080/"
        },
        "id": "rWz8ujiDgN1v",
        "outputId": "30136561-da2b-455f-c089-83fadfe7da9b"
      },
      "execution_count": 3,
      "outputs": [
        {
          "output_type": "stream",
          "name": "stdout",
          "text": [
            "Rectangle object. begins at x=1, y=1 Width: 7 Height: 5\n",
            "Rectangle object. begins at x=1, y=1 Width: 5 Height: 7\n"
          ]
        }
      ]
    },
    {
      "cell_type": "code",
      "source": [
        "# [EXERCISES - 18.6]\n",
        "\n",
        "'''.12\n",
        "Write a new method in the Rectangle class to test if a Point falls within the \n",
        "rectangle. For this exercise, assume that a rectangle at (0,0) with width 10 \n",
        "and height 5 has open upper bounds on the width and height, i.e. it stretches \n",
        "in the x direction from [0 to 10), where 0 is included but 10 is excluded, and \n",
        "from [0 to 5) in the y direction. So it does not contain the point (10, 2). \n",
        "These tests should pass'''\n",
        "\n",
        "\n",
        "class Point:\n",
        "    def __init__(self, posX=0, posY=0):\n",
        "        self.x = posX\n",
        "        self.y = posY\n",
        "\n",
        "    def __str__(self):\n",
        "        return f\"x={self.x}, y={self.y}\"\n",
        "\n",
        "\n",
        "class Rectangle:\n",
        "\n",
        "    def __init__(self, apoint:Point, w, h)->None:\n",
        "\n",
        "        if (w == 0 or h == 0):\n",
        "            raise ValueError(\"You can't have a rectangle with any side of length 0.\")\n",
        "        self.start = apoint\n",
        "        self.width = w\n",
        "        self.height = h\n",
        "\n",
        "    def __str__(self)->str:\n",
        "        return f\"Rectangle object. begins at {self.start} Width: {self.width} Height: {self.height}\"\n",
        "\n",
        "    def area(self):\n",
        "        return self.width * self.height\n",
        "\n",
        "    def perimeter(self):\n",
        "        return self.width*2 + self.height*2\n",
        "\n",
        "    def transpose(self):\n",
        "        self.width, self.height =  self.height, self.width\n",
        "\n",
        "    def contains(self, pt:Point)->bool:\n",
        "        # self is a Rectangle()\n",
        "        if (pt.x < self.width and pt.y < self.height):\n",
        "            return True\n",
        "        else:\n",
        "            return False  \n",
        "\n",
        "\n",
        "recA = Rectangle(Point(), 100, 50)\n",
        "pointIn = Point(30 , 49.9)\n",
        "pointOut = Point(110, 30)\n",
        "print(recA)\n",
        "print(f'Is the point {pointIn} in the rectangle? {recA.contains(pointIn)}')\n",
        "print(f'Is the point {pointOut} in the rectangle? {recA.contains(pointOut)}')\n",
        "print('\\n')\n",
        "\n",
        "'''Good enough. However, to make things a bit illustrative let use my previous\n",
        "Draw class to visualize it: \n",
        "\n",
        "(In order to do that, note as the parameters for Point and Rectangle were scaled for 10x)''' \n",
        "\n",
        "tarsila = Draw()\n",
        "tarsila.rectangle(recA)\n",
        "tarsila.point(pointIn)\n",
        "tarsila.point(pointOut)\n",
        "\n",
        "# Sensacioal, Tarsila definitivamente esta arrenbentando aqui!"
      ],
      "metadata": {
        "colab": {
          "base_uri": "https://localhost:8080/",
          "height": 508
        },
        "id": "BbDGVXz4h49f",
        "outputId": "c7a4b6ef-f9f2-4dc0-ac39-41dd336bd569"
      },
      "execution_count": null,
      "outputs": [
        {
          "output_type": "stream",
          "name": "stdout",
          "text": [
            "Rectangle object. begins at x=0, y=0 Width: 100 Height: 50\n",
            "Is the point x=30, y=49.9 in the rectangle? True\n",
            "Is the point x=110, y=30 in the rectangle? False\n",
            "\n",
            "\n"
          ]
        },
        {
          "output_type": "display_data",
          "data": {
            "text/plain": [
              "<IPython.core.display.HTML object>"
            ],
            "text/html": [
              "\n",
              "      <svg width=\"400\" height=\"400\">  \n",
              "        <rect width=\"100%\" height=\"100%\" style=\"fill:white;stroke:;stroke-width:1\"/>\n",
              "        \n",
              "        <g id=\"ellipse\" visibility=\"visible\" transform=\"rotate(-90,200.0,200.0) translate(200.0, 200.0)\">\n",
              "<ellipse transform=\"skewX(0) scale(0.5,0.5)\" style=\"stroke:red;fill:red;stroke-width:1\" rx=\"5.0\" ry = \"5.0\" cx=\"0\" cy=\"0\" />\n",
              "</g><g id=\"ellipse\" visibility=\"visible\" transform=\"rotate(-90,200.0,200.0) translate(200.0, 200.0)\">\n",
              "<ellipse transform=\"skewX(0) scale(0.5,0.5)\" style=\"stroke:red;fill:red;stroke-width:1\" rx=\"5.0\" ry = \"5.0\" cx=\"0\" cy=\"0\" />\n",
              "</g><g id=\"ring\" visibility=\"visible\" transform=\"rotate(-90,230.0,150.1) translate(230.0, 159.1)\">\n",
              "<ellipse stroke=\"cyan\" transform=\"skewX(0)\" stroke-width=\"3\" fill=\"transparent\" rx=\"5.0\" ry = \"5.0\" cx=\"0\" cy=\"-9.0\" />\n",
              "<polygon points=\"0,5 5,0 -5,0\" transform=\"skewX(0) scale(0.5,0.5)\" style=\"fill:cyan;stroke:cyan;stroke-width:1\" />\n",
              "</g><g id=\"ellipse\" visibility=\"visible\" transform=\"rotate(-90,200.0,200.0) translate(200.0, 200.0)\">\n",
              "<ellipse transform=\"skewX(0) scale(0.5,0.5)\" style=\"stroke:red;fill:red;stroke-width:1\" rx=\"5.0\" ry = \"5.0\" cx=\"0\" cy=\"0\" />\n",
              "</g><g id=\"ring\" visibility=\"visible\" transform=\"rotate(-90,310.0,170.0) translate(310.0, 179.0)\">\n",
              "<ellipse stroke=\"cyan\" transform=\"skewX(0)\" stroke-width=\"3\" fill=\"transparent\" rx=\"5.0\" ry = \"5.0\" cx=\"0\" cy=\"-9.0\" />\n",
              "<polygon points=\"0,5 5,0 -5,0\" transform=\"skewX(0) scale(0.5,0.5)\" style=\"fill:cyan;stroke:cyan;stroke-width:1\" />\n",
              "</g>\n",
              "        <path fill-rule=\"evenodd\" fill-opacity=\"1\" d=\"M 200.0 200.0  L 300.0 200.0  L 300.0 150.0  L 200.0 150.0  L 200.0 200.0 \" stroke-linecap=\"round\" style=\"stroke:green;stroke-width:2\" fill=\"black\" />\n",
              "        \n",
              "        \n",
              "        <g id=\"ellipse\" visibility=\"visible\" transform=\"rotate(0,200.0,200.0) translate(200.0, 200.0)\">\n",
              "<ellipse transform=\"skewX(0) scale(0.5,0.5)\" style=\"stroke:green;fill:black;stroke-width:1\" rx=\"5.0\" ry = \"5.0\" cx=\"0\" cy=\"0\" />\n",
              "</g><g id=\"ring\" visibility=\"visible\" transform=\"rotate(-90,230.0,150.1) translate(230.0, 159.1)\">\n",
              "<ellipse stroke=\"cyan\" transform=\"skewX(0)\" stroke-width=\"3\" fill=\"transparent\" rx=\"5.0\" ry = \"5.0\" cx=\"0\" cy=\"-9.0\" />\n",
              "<polygon points=\"0,5 5,0 -5,0\" transform=\"skewX(0) scale(0.5,0.5)\" style=\"fill:cyan;stroke:cyan;stroke-width:1\" />\n",
              "</g><g id=\"ring\" visibility=\"visible\" transform=\"rotate(-90,310.0,170.0) translate(310.0, 179.0)\">\n",
              "<ellipse stroke=\"cyan\" transform=\"skewX(0)\" stroke-width=\"3\" fill=\"transparent\" rx=\"5.0\" ry = \"5.0\" cx=\"0\" cy=\"-9.0\" />\n",
              "<polygon points=\"0,5 5,0 -5,0\" transform=\"skewX(0) scale(0.5,0.5)\" style=\"fill:cyan;stroke:cyan;stroke-width:1\" />\n",
              "</g>\n",
              "      </svg>\n",
              "    "
            ]
          },
          "metadata": {}
        }
      ]
    },
    {
      "cell_type": "code",
      "source": [
        "\n",
        "'''.13\n",
        "Write a new method called diagonal that will return the length of the diagonal \n",
        "that runs from the lower left corner to the opposite corner.'''\n",
        "\n",
        "class Point:\n",
        "    def __init__(self, posX=0, posY=0):\n",
        "        self.x = posX\n",
        "        self.y = posY\n",
        "\n",
        "    def __str__(self):\n",
        "        return f\"x={self.x}, y={self.y}\"\n",
        "\n",
        "\n",
        "class Rectangle:\n",
        "\n",
        "    def __init__(self, apoint:Point, w, h)->None:\n",
        "\n",
        "        if (w == 0 or h == 0):\n",
        "            raise ValueError(\"You can't have a rectangle with any side of length 0.\")\n",
        "        self.start = apoint\n",
        "        self.width = w\n",
        "        self.height = h\n",
        "\n",
        "    def __str__(self)->str:\n",
        "        return f\"Rectangle object. begins at {self.start} Width: {self.width} Height: {self.height}\"\n",
        "\n",
        "    def area(self):\n",
        "        return self.width * self.height\n",
        "\n",
        "    def perimeter(self):\n",
        "        return self.width*2 + self.height*2\n",
        "\n",
        "    def transpose(self):\n",
        "        self.width, self.height =  self.height, self.width\n",
        "\n",
        "    def contains(self, pt:Point)->bool:\n",
        "        # self is a Rectangle()\n",
        "        if (pt.x < self.width and pt.y < self.height):\n",
        "            return True\n",
        "        else:\n",
        "            return False\n",
        "\n",
        "    def diogonal(self):\n",
        "        # width and height defnines x and y of the oposite corner\n",
        "        # now, lets Pythogoras shine:\n",
        "        return (self.width**2 + self.height**2)**(1/2)   \n",
        "\n",
        "\n",
        "\n",
        "recA = Rectangle(Point(), 120, 60)\n",
        "print(recA.diogonal())\n",
        "\n",
        "''' I can't believe it worked. Now, let's back to my Draw() class definition\n",
        "and make Tarsila able to bring us some lines to visualize this diogonal!'''\n",
        "\n",
        "tarsila = Draw()\n",
        "tarsila.rectangle(recA)\n",
        "tarsila.line(recA.start, Point(recA.width, recA.height))"
      ],
      "metadata": {
        "colab": {
          "base_uri": "https://localhost:8080/",
          "height": 439
        },
        "id": "elMQjwhMDi3j",
        "outputId": "dcae9f16-ce2e-419f-e881-640cce4373f2"
      },
      "execution_count": 5,
      "outputs": [
        {
          "output_type": "stream",
          "name": "stdout",
          "text": [
            "134.16407864998737\n"
          ]
        },
        {
          "output_type": "display_data",
          "data": {
            "text/plain": [
              "<IPython.core.display.HTML object>"
            ],
            "text/html": [
              "\n",
              "      <svg width=\"400\" height=\"400\">  \n",
              "        <rect width=\"100%\" height=\"100%\" style=\"fill:white;stroke:;stroke-width:1\"/>\n",
              "        \n",
              "        <g id=\"ellipse\" visibility=\"visible\" transform=\"rotate(-90,200.0,200.0) translate(200.0, 200.0)\">\n",
              "<ellipse transform=\"skewX(0) scale(0.5,0.5)\" style=\"stroke:red;fill:red;stroke-width:1\" rx=\"5.0\" ry = \"5.0\" cx=\"0\" cy=\"0\" />\n",
              "</g>\n",
              "        <path fill-rule=\"evenodd\" fill-opacity=\"1\" d=\"M 200.0 200.0  L 320.0 200.0  L 320.0 140.0  L 200.0 140.0  L 200.0 200.0 \" stroke-linecap=\"round\" style=\"stroke:green;stroke-width:2\" fill=\"black\" /><line x1=\"200.0\" y1=\"200.0\" x2=\"208.94427190821003\" y2=\"195.52786404142213\" stroke-linecap=\"round\" style=\"stroke:cyan;stroke-width:2\" /><line x1=\"208.94427190821003\" y1=\"195.52786404142213\" x2=\"217.88854381642005\" y2=\"191.05572808284427\" stroke-linecap=\"round\" style=\"stroke:cyan;stroke-width:2\" /><line x1=\"217.88854381642005\" y1=\"191.05572808284427\" x2=\"226.83281572463008\" y2=\"186.5835921242664\" stroke-linecap=\"round\" style=\"stroke:cyan;stroke-width:2\" /><line x1=\"226.83281572463008\" y1=\"186.5835921242664\" x2=\"235.7770876328401\" y2=\"182.11145616568854\" stroke-linecap=\"round\" style=\"stroke:cyan;stroke-width:2\" /><line x1=\"235.7770876328401\" y1=\"182.11145616568854\" x2=\"244.72135954105013\" y2=\"177.63932020711067\" stroke-linecap=\"round\" style=\"stroke:cyan;stroke-width:2\" /><line x1=\"244.72135954105013\" y1=\"177.63932020711067\" x2=\"253.66563144926016\" y2=\"173.1671842485328\" stroke-linecap=\"round\" style=\"stroke:cyan;stroke-width:2\" /><line x1=\"253.66563144926016\" y1=\"173.1671842485328\" x2=\"262.60990335747016\" y2=\"168.69504828995494\" stroke-linecap=\"round\" style=\"stroke:cyan;stroke-width:2\" /><line x1=\"262.60990335747016\" y1=\"168.69504828995494\" x2=\"271.55417526568016\" y2=\"164.22291233137707\" stroke-linecap=\"round\" style=\"stroke:cyan;stroke-width:2\" /><line x1=\"271.55417526568016\" y1=\"164.22291233137707\" x2=\"280.49844717389016\" y2=\"159.7507763727992\" stroke-linecap=\"round\" style=\"stroke:cyan;stroke-width:2\" /><line x1=\"280.49844717389016\" y1=\"159.7507763727992\" x2=\"289.44271908210015\" y2=\"155.27864041422134\" stroke-linecap=\"round\" style=\"stroke:cyan;stroke-width:2\" /><line x1=\"289.44271908210015\" y1=\"155.27864041422134\" x2=\"298.38699099031015\" y2=\"150.80650445564348\" stroke-linecap=\"round\" style=\"stroke:cyan;stroke-width:2\" /><line x1=\"298.38699099031015\" y1=\"150.80650445564348\" x2=\"307.33126289852015\" y2=\"146.3343684970656\" stroke-linecap=\"round\" style=\"stroke:cyan;stroke-width:2\" /><line x1=\"307.33126289852015\" y1=\"146.3343684970656\" x2=\"316.27553480673015\" y2=\"141.86223253848775\" stroke-linecap=\"round\" style=\"stroke:cyan;stroke-width:2\" /><line x1=\"316.27553480673015\" y1=\"141.86223253848775\" x2=\"319.99999997600736\" y2=\"139.9999999519866\" stroke-linecap=\"round\" style=\"stroke:cyan;stroke-width:2\" />\n",
              "        \n",
              "        \n",
              "        <g id=\"ellipse\" visibility=\"visible\" transform=\"rotate(0,200.0,200.0) translate(200.0, 200.0)\">\n",
              "<ellipse transform=\"skewX(0) scale(0.5,0.5)\" style=\"stroke:green;fill:black;stroke-width:1\" rx=\"5.0\" ry = \"5.0\" cx=\"0\" cy=\"0\" />\n",
              "</g>\n",
              "      </svg>\n",
              "    "
            ]
          },
          "metadata": {}
        }
      ]
    },
    {
      "cell_type": "code",
      "source": [
        "\n",
        "\n",
        "'''.14\n",
        "In games, we often put a rectangular “bounding box” around our sprites in the\n",
        "game. We can then do collision detection between, say, bombs and spaceships, by \n",
        "comparing whether their rectangles overlap anywhere.\n",
        "\n",
        "Write a function to determine whether two rectangles collide. Hint: this might \n",
        "be quite a tough exercise! Think carefully about all the cases before you code.'''\n",
        "\n",
        "\n",
        "# Traditionally in this book, the last exercise of each section is the hardest! :D\n",
        "\n",
        "class Point:\n",
        "    def __init__(self, posX=0, posY=0):\n",
        "        self.x = posX\n",
        "        self.y = posY\n",
        "\n",
        "    def __str__(self):\n",
        "        return f\"x={self.x}, y={self.y}\"\n",
        "\n",
        "\n",
        "class Rectangle:\n",
        "\n",
        "    def __init__(self, apoint:Point, w, h)->None:\n",
        "\n",
        "        if (w == 0 or h == 0):\n",
        "            raise ValueError(\"You can't have a rectangle with any side of length 0.\")\n",
        "        self.start = apoint\n",
        "        self.width = w\n",
        "        self.height = h\n",
        "\n",
        "    def __str__(self)->str:\n",
        "        return f\"Rectangle object. begins at {self.start} Width: {self.width} Height: {self.height}\"\n",
        "\n",
        "    def area(self):\n",
        "        return self.width * self.height\n",
        "\n",
        "    def perimeter(self):\n",
        "        return self.width*2 + self.height*2\n",
        "\n",
        "    def transpose(self):\n",
        "        self.width, self.height =  self.height, self.width\n",
        "\n",
        "    def contains(self, pt:Point)->bool:\n",
        "        # self is a Rectangle()\n",
        "        if (pt.x < self.width and pt.y < self.height):\n",
        "            return True\n",
        "        else:\n",
        "            return False\n",
        "\n",
        "    def diogonal(self):\n",
        "        # width and height defnines x and y of the oposite corner\n",
        "        # now, lets Pythogoras shine:\n",
        "        return (self.width**2 + self.height**2)**(1/2)   \n",
        "\n",
        "\n",
        "\n",
        "recA = Rectangle(Point(), 120, 60)\n",
        "print(recA.diogonal())"
      ],
      "metadata": {
        "id": "E8p1OMOrhtOw"
      },
      "execution_count": null,
      "outputs": []
    }
  ]
}